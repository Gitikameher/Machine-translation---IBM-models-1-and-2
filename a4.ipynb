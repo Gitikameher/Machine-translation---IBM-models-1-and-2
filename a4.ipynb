{
 "cells": [
  {
   "cell_type": "code",
   "execution_count": 1,
   "metadata": {},
   "outputs": [],
   "source": [
    "from scipy.sparse import dok_matrix\n",
    "import numpy as np\n",
    "import pickle\n",
    "import copy"
   ]
  },
  {
   "cell_type": "code",
   "execution_count": 2,
   "metadata": {},
   "outputs": [],
   "source": [
    "def read_corpus_addnull(english_corpus, foreign_corpus):\n",
    "    \"Reads a corpus and adds in the NULL word.\"\n",
    "    english = [[\"*\"] + e_sent.split() for e_sent in open(english_corpus, encoding='utf-8')]\n",
    "    foreign = [f_sent.split() for f_sent in open(foreign_corpus, encoding='utf-8')]\n",
    "    return english, foreign\n",
    "\n",
    "english, spanish = read_corpus_addnull(\"corpus.en\", \"corpus.es\")"
   ]
  },
  {
   "cell_type": "code",
   "execution_count": 3,
   "metadata": {},
   "outputs": [],
   "source": [
    "to_remove=[]\n",
    "for i in range(len(spanish)):\n",
    "    if len(spanish[i])==0:\n",
    "        to_remove.append(i)\n",
    "        \n",
    "for index in sorted(to_remove, reverse=True):\n",
    "    del english[index]\n",
    "    del spanish[index]"
   ]
  },
  {
   "cell_type": "code",
   "execution_count": 4,
   "metadata": {},
   "outputs": [],
   "source": [
    "spanish_words = set()\n",
    "english_words = set()\n",
    "for sent in spanish:\n",
    "    for word in sent:\n",
    "        spanish_words.add(word)\n",
    "for sent in english:\n",
    "    for word in sent:\n",
    "        english_words.add(word)"
   ]
  },
  {
   "cell_type": "code",
   "execution_count": 5,
   "metadata": {},
   "outputs": [],
   "source": [
    "n_e = {}\n",
    "parallel_corpus = zip(english, spanish)\n",
    "wordpairs = set()\n",
    "for e, s in parallel_corpus:\n",
    "    for e_j in e:\n",
    "        for s_i in s:\n",
    "            wordpair = (e_j, s_i)\n",
    "            if wordpair not in wordpairs:\n",
    "                wordpairs.add(wordpair)\n",
    "                if not e_j in n_e:\n",
    "                    n_e[e_j] = 0\n",
    "                n_e[e_j]+=1"
   ]
  },
  {
   "cell_type": "code",
   "execution_count": 6,
   "metadata": {},
   "outputs": [],
   "source": [
    "spanish_words = list(spanish_words)\n",
    "english_words = list(english_words)"
   ]
  },
  {
   "cell_type": "code",
   "execution_count": 7,
   "metadata": {},
   "outputs": [],
   "source": [
    "english_indices={};spanish_indices={}\n",
    "for i in range(len(english_words)):\n",
    "    english_indices[english_words[i]]=i\n",
    "for i in range(len(spanish_words)):\n",
    "    spanish_indices[spanish_words[i]]=i    "
   ]
  },
  {
   "cell_type": "code",
   "execution_count": 8,
   "metadata": {},
   "outputs": [],
   "source": [
    "base_t_parameters=[]\n",
    "for i in english_words:\n",
    "    base_t_parameters.append(1/ n_e[i] )"
   ]
  },
  {
   "cell_type": "code",
   "execution_count": 9,
   "metadata": {},
   "outputs": [],
   "source": [
    "t_parameters=dok_matrix((len(english_words), len(spanish_words)), dtype=np.float32)\n",
    "        \n",
    "def calculate_delta(i, k):\n",
    "    s_word=spanish[k][i];num=[]\n",
    "    l=len(english[k]); den=0\n",
    "    for x in range(l):\n",
    "        e_word=english[k][x]\n",
    "        temp=t_parameters[english_indices[e_word],spanish_indices[s_word]]\n",
    "        if temp==0:\n",
    "            temp= base_t_parameters[english_indices[e_word]]\n",
    "        den+=temp\n",
    "        num.append(temp)\n",
    "    return np.array(num)/den"
   ]
  },
  {
   "cell_type": "code",
   "execution_count": 10,
   "metadata": {},
   "outputs": [],
   "source": [
    "def calculate_t_parameters(counts):\n",
    "    r=counts.sum(1)\n",
    "    return counts/r"
   ]
  },
  {
   "cell_type": "code",
   "execution_count": 11,
   "metadata": {},
   "outputs": [],
   "source": [
    "#IBM 1\n",
    "for s in range(5):\n",
    "    counts = dok_matrix((len(english_words), len(spanish_words)), dtype=np.float32)\n",
    "    for k in range(len(english)): \n",
    "        for i in range(len(spanish[k])):\n",
    "            delta= calculate_delta(i, k);s_word=spanish[k][i];s_index=spanish_indices[s_word]\n",
    "            for j in range(len(english[k])):\n",
    "                e_word=english[k][j];e_index=english_indices[e_word]\n",
    "                counts[e_index, s_index] += delta[j]\n",
    "    t_parameters=calculate_t_parameters(counts)\n",
    "    "
   ]
  },
  {
   "cell_type": "code",
   "execution_count": 12,
   "metadata": {},
   "outputs": [],
   "source": [
    "eng_dev = [e_sent.split() for e_sent in open('dev.en', encoding='utf-8')]\n",
    "spn_dev = [f_sent.split() for f_sent in open('dev.es', encoding='utf-8')]\n",
    "al=open(\"dev.out\", \"w\", encoding='utf-8')\n",
    "for i in range(len(spn_dev)):\n",
    "    for spn_ind,spn_word in enumerate(spn_dev[i],1):\n",
    "        if spn_word in spanish_words:\n",
    "            c_max=0;s_index=spanish_indices[spn_word];c_index=0\n",
    "            for eng_ind,eng_word in enumerate(eng_dev[i],1):\n",
    "                e_index= english_indices[eng_word] \n",
    "                if t_parameters[e_index,s_index]==0:\n",
    "                    t_value=base_t_parameters[e_index]\n",
    "                else:\n",
    "                    t_value=t_parameters[e_index,s_index]\n",
    "                if t_value > c_max:\n",
    "                    c_max=t_value; c_index= eng_ind\n",
    "            al.write(str(i+1)+' '+str(c_index)+' '+str(spn_ind)+'\\n')\n",
    "al.close()"
   ]
  },
  {
   "cell_type": "code",
   "execution_count": 13,
   "metadata": {},
   "outputs": [
    {
     "name": "stdout",
     "output_type": "stream",
     "text": [
      "      Type       Total   Precision      Recall     F1-Score\r\n",
      "===============================================================\r\n",
      "     total        5920     0.413        0.427        0.420\r\n"
     ]
    }
   ],
   "source": [
    "!python eval_alignment.py 'dev.key' 'dev.out'"
   ]
  },
  {
   "cell_type": "code",
   "execution_count": 14,
   "metadata": {},
   "outputs": [],
   "source": [
    "q={};q_names_e={};q_names_s={}\n",
    "for k in range(len(spanish)):\n",
    "    l=len(english[k]);m=len(spanish[k])\n",
    "    l1=len(set(english[k]));m1=len(set(spanish[k]))\n",
    "    if (l,m) not in q.keys():\n",
    "        q[(l,m)]=dok_matrix((l1, m1), dtype=np.float32)\n",
    "        q_names_e[(l,m)]= {}\n",
    "        q_names_s[(l,m)]= {}\n",
    "        for i in range(len(set(english[k]))):\n",
    "            q_names_e[(l,m)][list(set(english[k]))[i]]=i\n",
    "        for i in range(len(set(spanish[k]))):\n",
    "            q_names_s[(l,m)][list(set(spanish[k]))[i]]=i\n",
    "    else:\n",
    "        new_l_e=list(set(english[k]));new_l_s=list(set(spanish[k]))\n",
    "        for i in range(len(new_l_e)):\n",
    "            if new_l_e[i] not in q_names_e[(l,m)].keys():\n",
    "                q_names_e[(l,m)][new_l_e[i]]=len(q_names_e[(l,m)].keys())\n",
    "        for i in range(len(new_l_s)):\n",
    "            if new_l_s[i] not in q_names_s[(l,m)].keys():\n",
    "                q_names_s[(l,m)][new_l_s[i]]= len(q_names_s[(l,m)].keys())\n",
    "        q[(l,m)]=dok_matrix((len(q_names_e[(l,m)].keys()), len(q_names_s[(l,m)].keys())), dtype=np.float32)\n",
    "counts_q_initial=copy.deepcopy(q)"
   ]
  },
  {
   "cell_type": "code",
   "execution_count": 15,
   "metadata": {},
   "outputs": [],
   "source": [
    "def calculate_q_parameters(counts_for_q, q):\n",
    "    for x in range(len(list(counts_for_q.keys()))):\n",
    "        (l, m)=list(counts_for_q.keys())[x]\n",
    "        q[(l, m)]=counts_for_q[(l, m)]/(counts_for_q[(l, m)].sum(1))\n",
    "    return q\n",
    "def calculate_delta_2(i, k):\n",
    "    s_word=spanish[k][i];num=[]\n",
    "    l=len(english[k]); den=0;m=len(spanish[k])\n",
    "    for x in range(l):\n",
    "        e_word=english[k][x]\n",
    "        temp=t_parameters[english_indices[e_word],spanish_indices[s_word]]\n",
    "        temp1=q[(l,m)][q_names_e[(l,m)][e_word],q_names_s[(l,m)][s_word]]\n",
    "        if temp1==0:\n",
    "            temp1= 1/(l)          \n",
    "        if temp==0:\n",
    "            temp= base_t_parameters[english_indices[e_word]]\n",
    "        den+=(temp*temp1)\n",
    "        num.append(temp*temp1)\n",
    "    return np.array(num)/den"
   ]
  },
  {
   "cell_type": "code",
   "execution_count": null,
   "metadata": {},
   "outputs": [],
   "source": [
    "#IBM 2\n",
    "for s in range(1):\n",
    "    counts = dok_matrix((len(english_words), len(spanish_words)), dtype=np.float32)\n",
    "    counts_for_q=copy.deepcopy(counts_q_initial)\n",
    "    for k in range(len(english)): \n",
    "        l=len(english[k]);m=len(spanish[k])\n",
    "        for i in range(len(spanish[k])):\n",
    "            delta= calculate_delta_2(i, k);s_word=spanish[k][i];s_index=spanish_indices[s_word]\n",
    "            for j in range(len(english[k])):\n",
    "                e_word=english[k][j];e_index=english_indices[e_word]\n",
    "                counts[e_index, s_index] += delta[j]\n",
    "                counts_for_q[(l, m)][q_names_e[(l,m)][e_word],q_names_s[(l,m)][s_word]] += delta[j]\n",
    "    t_parameters=calculate_t_parameters(counts)\n",
    "    q=calculate_q_parameters(counts_for_q, q)"
   ]
  },
  {
   "cell_type": "code",
   "execution_count": 19,
   "metadata": {},
   "outputs": [],
   "source": [
    "eng_dev = [e_sent.split() for e_sent in open('dev.en', encoding='utf-8')]\n",
    "spn_dev = [f_sent.split() for f_sent in open('dev.es', encoding='utf-8')]\n",
    "al=open(\"dev_2.out\", \"w\", encoding='utf-8')\n",
    "for k in range(len(spn_dev)):\n",
    "    l=len(eng_dev[k]);m=len(spn_dev[k])\n",
    "    for spn_ind,spn_word in enumerate(spn_dev[k],1):\n",
    "        if spn_word in spanish_words:\n",
    "            c_max=0;s_index=spanish_indices[spn_word];c_index=0\n",
    "            for eng_ind,eng_word in enumerate(eng_dev[k],1):\n",
    "                e_index= english_indices[eng_word] \n",
    "                t_value=t_parameters[e_index,s_index]\n",
    "                if (l,m) not in q.keys():\n",
    "                    q_value=1e-10\n",
    "                else:\n",
    "                    q_value=q[(l,m)][eng_ind-1, spn_ind-1]\n",
    "                if t_value==0:\n",
    "                    t_value=base_t_parameters[e_index]\n",
    "                if q_value ==0:\n",
    "                    q_value = 1/(l+1)\n",
    "                prd= (q_value)*(t_value)\n",
    "                if prd > c_max:\n",
    "                    c_max=prd; c_index= eng_ind\n",
    "            al.write(str(k+1)+' '+str(c_index)+' '+str(spn_ind)+'\\n')\n",
    "al.close()"
   ]
  },
  {
   "cell_type": "code",
   "execution_count": 29,
   "metadata": {},
   "outputs": [
    {
     "name": "stdout",
     "output_type": "stream",
     "text": [
      "      Type       Total   Precision      Recall     F1-Score\r\n",
      "===============================================================\r\n",
      "     total        5920     0.443        0.457        0.450\r\n"
     ]
    }
   ],
   "source": [
    "!python eval_alignment.py 'dev.key' 'dev.out'"
   ]
  },
  {
   "cell_type": "code",
   "execution_count": 20,
   "metadata": {},
   "outputs": [],
   "source": [
    "#Growing Alignments\n",
    "eng_dev = [e_sent.split() for e_sent in open('dev.en', encoding='utf-8')]\n",
    "spn_dev = [f_sent.split() for f_sent in open('dev.es', encoding='utf-8')]\n",
    "Pairs={}\n",
    "e_f = [e_sent.split() for e_sent in open('dev4.out', encoding='utf-8')]\n",
    "f_e = [f_sent.split() for f_sent in open('dev_ef.out', encoding='utf-8')]\n",
    "for i in e_f:\n",
    "    t=(int(i[0]), int(i[1]), int(i[2]))\n",
    "    if t in Pairs.keys():\n",
    "        Pairs[t]+=1\n",
    "    else:\n",
    "        Pairs[t]=1\n",
    "        \n",
    "for i in f_e:\n",
    "    t=(int(i[0]), int(i[2]), int(i[1]))\n",
    "    if t in Pairs.keys():\n",
    "        Pairs[t]+=1\n",
    "    else:\n",
    "        Pairs[t]=1"
   ]
  },
  {
   "cell_type": "code",
   "execution_count": 21,
   "metadata": {},
   "outputs": [],
   "source": [
    "al=open(\"dev_int.out\", \"w\", encoding='utf-8')\n",
    "for i in list(Pairs.keys()):\n",
    "    if Pairs[i]==2:\n",
    "        al.write(str(i[0])+' '+str(i[1])+' '+str(i[2])+'\\n')\n",
    "al.close()"
   ]
  },
  {
   "cell_type": "code",
   "execution_count": 22,
   "metadata": {},
   "outputs": [
    {
     "name": "stdout",
     "output_type": "stream",
     "text": [
      "      Type       Total   Precision      Recall     F1-Score\r\n",
      "===============================================================\r\n",
      "     total        5920     0.794        0.367        0.502\r\n"
     ]
    }
   ],
   "source": [
    "!python eval_alignment.py 'dev.key' 'dev_int.out'"
   ]
  },
  {
   "cell_type": "code",
   "execution_count": 27,
   "metadata": {},
   "outputs": [],
   "source": [
    "Int={}; left_over={}\n",
    "for i in list(Pairs.keys()):\n",
    "    if Pairs[i]==2:\n",
    "        if i[0] in Int.keys():\n",
    "            Int[i[0]].append(i[2])\n",
    "        else:\n",
    "            Int[i[0]]=[i[2]]\n",
    "    else:\n",
    "        if i[0] in left_over.keys():\n",
    "            left_over[i[0]].append((i[1], i[2]))\n",
    "        else:\n",
    "            left_over[i[0]]=[(i[1], i[2])] "
   ]
  },
  {
   "cell_type": "code",
   "execution_count": 23,
   "metadata": {},
   "outputs": [],
   "source": [
    "al=open(\"dev_int.out\", \"a\", encoding='utf-8')\n",
    "for i in Int.keys():\n",
    "    for x in range(1, len(eng_dev[i-1])+1):\n",
    "        if x not in Int[i]:\n",
    "            for y in left_over[i]:\n",
    "                if y[0]==x and (x not in Int[i]):\n",
    "                    Int[i].append(x)\n",
    "                    al.write(str(i)+' '+str(x)+' '+str(y[1])+'\\n') \n",
    "                    \n",
    "al.close()"
   ]
  },
  {
   "cell_type": "code",
   "execution_count": 24,
   "metadata": {},
   "outputs": [
    {
     "name": "stdout",
     "output_type": "stream",
     "text": [
      "      Type       Total   Precision      Recall     F1-Score\r\n",
      "===============================================================\r\n",
      "     total        5920     0.476        0.465        0.470\r\n"
     ]
    }
   ],
   "source": [
    "!python eval_alignment.py 'dev.key' 'dev_int.out'"
   ]
  },
  {
   "cell_type": "code",
   "execution_count": 28,
   "metadata": {},
   "outputs": [],
   "source": [
    "al=open(\"dev_int.out\", \"a\", encoding='utf-8')\n",
    "for i in Int.keys():\n",
    "    for x in range(1, len(spn_dev[i-1])+1):\n",
    "        if x not in Int[i]:\n",
    "            for y in left_over[i]:\n",
    "                if y[1]==x and (x not in Int[i]):\n",
    "                    Int[i].append(x)\n",
    "                    al.write(str(i)+' '+str(y[0])+' '+str(x)+'\\n') \n",
    "                    \n",
    "al.close()"
   ]
  },
  {
   "cell_type": "code",
   "execution_count": 29,
   "metadata": {},
   "outputs": [
    {
     "name": "stdout",
     "output_type": "stream",
     "text": [
      "      Type       Total   Precision      Recall     F1-Score\r\n",
      "===============================================================\r\n",
      "     total        5920     0.366        0.519        0.429\r\n"
     ]
    }
   ],
   "source": [
    "!python eval_alignment.py 'dev.key' 'dev_int.out'"
   ]
  },
  {
   "cell_type": "code",
   "execution_count": 25,
   "metadata": {},
   "outputs": [],
   "source": [
    "al=open(\"dev_un.out\", \"w\", encoding='utf-8')\n",
    "for i in list(Pairs.keys()):\n",
    "    al.write(str(i[0])+' '+str(i[1])+' '+str(i[2])+'\\n')\n",
    "al.close()"
   ]
  },
  {
   "cell_type": "code",
   "execution_count": 26,
   "metadata": {},
   "outputs": [
    {
     "name": "stdout",
     "output_type": "stream",
     "text": [
      "      Type       Total   Precision      Recall     F1-Score\r\n",
      "===============================================================\r\n",
      "     total        5920     0.350        0.541        0.425\r\n"
     ]
    }
   ],
   "source": [
    "!python eval_alignment.py 'dev.key' 'dev_un.out'"
   ]
  },
  {
   "cell_type": "code",
   "execution_count": null,
   "metadata": {},
   "outputs": [],
   "source": []
  }
 ],
 "metadata": {
  "kernelspec": {
   "display_name": "Python 3",
   "language": "python",
   "name": "python3"
  },
  "language_info": {
   "codemirror_mode": {
    "name": "ipython",
    "version": 3
   },
   "file_extension": ".py",
   "mimetype": "text/x-python",
   "name": "python",
   "nbconvert_exporter": "python",
   "pygments_lexer": "ipython3",
   "version": "3.6.8"
  }
 },
 "nbformat": 4,
 "nbformat_minor": 2
}
